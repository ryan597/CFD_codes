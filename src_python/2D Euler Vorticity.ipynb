{
 "cells": [
  {
   "cell_type": "code",
   "execution_count": 254,
   "metadata": {},
   "outputs": [],
   "source": [
    "import numpy as np\n",
    "import matplotlib.pyplot as plt"
   ]
  },
  {
   "cell_type": "code",
   "execution_count": 2,
   "metadata": {},
   "outputs": [],
   "source": [
    "Nx, Ny = 32, 32\n",
    "dt, tfinal = 0.001, 1.5\n",
    "n_timesteps = int(np.floor(tfinal/dt))\n",
    "\n",
    "dx = 2*np.pi/Nx\n",
    "dy = 2*np.pi/Ny\n",
    "\n",
    "xx = np.arange(0, Nx)*dx\n",
    "yy = np.arange(0, Ny)*dy\n",
    "\n",
    "kx = np.ones((1, Ny)).T * (np.arange(-Nx/2, Nx/2))\n",
    "ky = np.reshape(np.arange(-Ny/2, Ny/2), (1, Ny)).T * np.ones((1, Nx))\n",
    "\n",
    "k2 = kx**2+ky**2\n",
    "k2[int(Nx/2),int(Nx/2)]=1\n",
    "\n",
    "dealias = (np.abs(kx) < (2.0/3.0)*(Nx/2.0)) * (np.abs(ky)<(2.0/3.0)*(Ny/2.0))"
   ]
  },
  {
   "cell_type": "code",
   "execution_count": 3,
   "metadata": {
    "scrolled": true
   },
   "outputs": [
    {
     "name": "stdout",
     "output_type": "stream",
     "text": [
      "Time: 0.0s\n",
      "Time: 0.001s\n",
      "Time: 0.002s\n",
      "Time: 0.003s\n",
      "Time: 0.004s\n",
      "Time: 0.005s\n",
      "Time: 0.006s\n",
      "Time: 0.007s\n",
      "Time: 0.008s\n",
      "Time: 0.009s\n",
      "Time: 0.01s\n",
      "Time: 0.011s\n",
      "Time: 0.012s\n",
      "Time: 0.013s\n",
      "Time: 0.014s\n",
      "Time: 0.015s\n",
      "Time: 0.016s\n",
      "Time: 0.017s\n",
      "Time: 0.018s\n",
      "Time: 0.019s\n",
      "Time: 0.02s\n",
      "Time: 0.021s\n",
      "Time: 0.022s\n",
      "Time: 0.023s\n",
      "Time: 0.024s\n",
      "Time: 0.025s\n",
      "Time: 0.026s\n",
      "Time: 0.027s\n",
      "Time: 0.028s\n",
      "Time: 0.029s\n",
      "Time: 0.03s\n",
      "Time: 0.031s\n",
      "Time: 0.032s\n",
      "Time: 0.033s\n",
      "Time: 0.034s\n",
      "Time: 0.035s\n",
      "Time: 0.036s\n"
     ]
    },
    {
     "ename": "KeyboardInterrupt",
     "evalue": "",
     "output_type": "error",
     "traceback": [
      "\u001b[0;31m---------------------------------------------------------------------------\u001b[0m",
      "\u001b[0;31mKeyboardInterrupt\u001b[0m                         Traceback (most recent call last)",
      "\u001b[0;32m<ipython-input-3-7595a5ff7c3f>\u001b[0m in \u001b[0;36m<module>\u001b[0;34m\u001b[0m\n\u001b[1;32m     40\u001b[0m \u001b[0;34m\u001b[0m\u001b[0m\n\u001b[1;32m     41\u001b[0m     \u001b[0mw_hat\u001b[0m \u001b[0;34m=\u001b[0m \u001b[0mnp\u001b[0m\u001b[0;34m.\u001b[0m\u001b[0mmultiply\u001b[0m\u001b[0;34m(\u001b[0m\u001b[0mnp\u001b[0m\u001b[0;34m.\u001b[0m\u001b[0mfft\u001b[0m\u001b[0;34m.\u001b[0m\u001b[0mfftshift\u001b[0m\u001b[0;34m(\u001b[0m\u001b[0mnp\u001b[0m\u001b[0;34m.\u001b[0m\u001b[0mfft\u001b[0m\u001b[0;34m.\u001b[0m\u001b[0mfft2\u001b[0m\u001b[0;34m(\u001b[0m\u001b[0mw\u001b[0m\u001b[0;34m)\u001b[0m\u001b[0;34m)\u001b[0m\u001b[0;34m,\u001b[0m\u001b[0mdealias\u001b[0m\u001b[0;34m)\u001b[0m\u001b[0;34m\u001b[0m\u001b[0;34m\u001b[0m\u001b[0m\n\u001b[0;32m---> 42\u001b[0;31m     \u001b[0mg_hat\u001b[0m \u001b[0;34m=\u001b[0m \u001b[0mnp\u001b[0m\u001b[0;34m.\u001b[0m\u001b[0mmultiply\u001b[0m\u001b[0;34m(\u001b[0m\u001b[0mnp\u001b[0m\u001b[0;34m.\u001b[0m\u001b[0mfft\u001b[0m\u001b[0;34m.\u001b[0m\u001b[0mfftshift\u001b[0m\u001b[0;34m(\u001b[0m\u001b[0mnp\u001b[0m\u001b[0;34m.\u001b[0m\u001b[0mfft\u001b[0m\u001b[0;34m.\u001b[0m\u001b[0mfft2\u001b[0m\u001b[0;34m(\u001b[0m\u001b[0mg\u001b[0m\u001b[0;34m)\u001b[0m\u001b[0;34m)\u001b[0m\u001b[0;34m,\u001b[0m\u001b[0mdealias\u001b[0m\u001b[0;34m)\u001b[0m\u001b[0;34m\u001b[0m\u001b[0;34m\u001b[0m\u001b[0m\n\u001b[0m\u001b[1;32m     43\u001b[0m \u001b[0;34m\u001b[0m\u001b[0m\n\u001b[1;32m     44\u001b[0m     \u001b[0mg_norm\u001b[0m\u001b[0;34m[\u001b[0m\u001b[0miteration_time\u001b[0m\u001b[0;34m]\u001b[0m \u001b[0;34m=\u001b[0m \u001b[0mnp\u001b[0m\u001b[0;34m.\u001b[0m\u001b[0mmax\u001b[0m\u001b[0;34m(\u001b[0m\u001b[0mnp\u001b[0m\u001b[0;34m.\u001b[0m\u001b[0msum\u001b[0m\u001b[0;34m(\u001b[0m\u001b[0mnp\u001b[0m\u001b[0;34m.\u001b[0m\u001b[0mabs\u001b[0m\u001b[0;34m(\u001b[0m\u001b[0mg\u001b[0m\u001b[0;34m)\u001b[0m\u001b[0;34m,\u001b[0m \u001b[0maxis\u001b[0m\u001b[0;34m=\u001b[0m\u001b[0;36m1\u001b[0m\u001b[0;34m)\u001b[0m\u001b[0;34m)\u001b[0m\u001b[0;34m\u001b[0m\u001b[0;34m\u001b[0m\u001b[0m\n",
      "\u001b[0;32m~/anaconda3/lib/python3.7/site-packages/mkl_fft/_numpy_fft.py\u001b[0m in \u001b[0;36mfft2\u001b[0;34m(a, s, axes, norm)\u001b[0m\n\u001b[1;32m    873\u001b[0m     \"\"\"\n\u001b[1;32m    874\u001b[0m     \u001b[0mx\u001b[0m \u001b[0;34m=\u001b[0m \u001b[0m_float_utils\u001b[0m\u001b[0;34m.\u001b[0m\u001b[0m__downcast_float128_array\u001b[0m\u001b[0;34m(\u001b[0m\u001b[0ma\u001b[0m\u001b[0;34m)\u001b[0m\u001b[0;34m\u001b[0m\u001b[0;34m\u001b[0m\u001b[0m\n\u001b[0;32m--> 875\u001b[0;31m     \u001b[0;32mreturn\u001b[0m \u001b[0mfftn\u001b[0m\u001b[0;34m(\u001b[0m\u001b[0mx\u001b[0m\u001b[0;34m,\u001b[0m \u001b[0ms\u001b[0m\u001b[0;34m=\u001b[0m\u001b[0ms\u001b[0m\u001b[0;34m,\u001b[0m \u001b[0maxes\u001b[0m\u001b[0;34m=\u001b[0m\u001b[0maxes\u001b[0m\u001b[0;34m,\u001b[0m \u001b[0mnorm\u001b[0m\u001b[0;34m=\u001b[0m\u001b[0mnorm\u001b[0m\u001b[0;34m)\u001b[0m\u001b[0;34m\u001b[0m\u001b[0;34m\u001b[0m\u001b[0m\n\u001b[0m\u001b[1;32m    876\u001b[0m \u001b[0;34m\u001b[0m\u001b[0m\n\u001b[1;32m    877\u001b[0m \u001b[0;34m\u001b[0m\u001b[0m\n",
      "\u001b[0;32m~/anaconda3/lib/python3.7/site-packages/mkl_fft/_numpy_fft.py\u001b[0m in \u001b[0;36mfftn\u001b[0;34m(a, s, axes, norm)\u001b[0m\n\u001b[1;32m    681\u001b[0m     \"\"\"\n\u001b[1;32m    682\u001b[0m     \u001b[0mx\u001b[0m \u001b[0;34m=\u001b[0m \u001b[0m_float_utils\u001b[0m\u001b[0;34m.\u001b[0m\u001b[0m__downcast_float128_array\u001b[0m\u001b[0;34m(\u001b[0m\u001b[0ma\u001b[0m\u001b[0;34m)\u001b[0m\u001b[0;34m\u001b[0m\u001b[0;34m\u001b[0m\u001b[0m\n\u001b[0;32m--> 683\u001b[0;31m     \u001b[0moutput\u001b[0m \u001b[0;34m=\u001b[0m \u001b[0mmkl_fft\u001b[0m\u001b[0;34m.\u001b[0m\u001b[0mfftn\u001b[0m\u001b[0;34m(\u001b[0m\u001b[0mx\u001b[0m\u001b[0;34m,\u001b[0m \u001b[0ms\u001b[0m\u001b[0;34m,\u001b[0m \u001b[0maxes\u001b[0m\u001b[0;34m)\u001b[0m\u001b[0;34m\u001b[0m\u001b[0;34m\u001b[0m\u001b[0m\n\u001b[0m\u001b[1;32m    684\u001b[0m     \u001b[0;32mif\u001b[0m \u001b[0m_unitary\u001b[0m\u001b[0;34m(\u001b[0m\u001b[0mnorm\u001b[0m\u001b[0;34m)\u001b[0m\u001b[0;34m:\u001b[0m\u001b[0;34m\u001b[0m\u001b[0;34m\u001b[0m\u001b[0m\n\u001b[1;32m    685\u001b[0m         \u001b[0moutput\u001b[0m \u001b[0;34m*=\u001b[0m \u001b[0;36m1\u001b[0m \u001b[0;34m/\u001b[0m \u001b[0msqrt\u001b[0m\u001b[0;34m(\u001b[0m\u001b[0m_tot_size\u001b[0m\u001b[0;34m(\u001b[0m\u001b[0moutput\u001b[0m\u001b[0;34m,\u001b[0m \u001b[0maxes\u001b[0m\u001b[0;34m)\u001b[0m\u001b[0;34m)\u001b[0m\u001b[0;34m\u001b[0m\u001b[0;34m\u001b[0m\u001b[0m\n",
      "\u001b[0;31mKeyboardInterrupt\u001b[0m: "
     ]
    }
   ],
   "source": [
    "X, Y = np.meshgrid(xx, yy)\n",
    "w = -np.sin(X) - np.cos(X)*np.cos(Y)\n",
    "g = np.sin(X)*np.sin(Y) - np.cos(Y)\n",
    "\n",
    "w_hat = np.fft.fftshift(np.fft.fft2(w))\n",
    "g_hat = np.fft.fftshift(np.fft.fft2(g))\n",
    "\n",
    "g_norm = np.zeros(n_timesteps)\n",
    "\n",
    "for iteration_time in range(0, n_timesteps):\n",
    "    if np.mod(iteration_time, 10)==0:\n",
    "        seconds = np.round(iteration_time*dt,4)\n",
    "        print(f\"Time: {seconds}s\")\n",
    "        #plt.imshow(w.T, cmap='hot')\n",
    "        #plt.pcolormesh(xx, yy, w.T, cmap='hot')\n",
    "        #if iteration_time==0:\n",
    "        #    plt.colorbar()          \n",
    "        #plt.title(\"2D Euler\")\n",
    "        #plt.show(False)\n",
    "        #plt.savefig(\"Euler_images/vorticity_{0}\".format(int(iteration_time/10)))\n",
    "    \n",
    "    u_hat = 1j*(np.multiply(kx,g_hat)+np.multiply(ky,w_hat))/k2\n",
    "    v_hat = 1j*(np.multiply(ky,g_hat)-np.multiply(kx,w_hat))/k2\n",
    "    \n",
    "    u_hat[int(Ny/2),int(Nx/2)]=0\n",
    "    v_hat[int(Ny/2),int(Nx/2)]=0\n",
    "    \n",
    "    u = np.real(np.fft.ifft2(np.fft.ifftshift(u_hat)))\n",
    "    v = np.real(np.fft.ifft2(np.fft.ifftshift(v_hat)))\n",
    "    \n",
    "    avg_g2 = 1/(2*np.pi)**2 * (np.sum(g**2))*dx*dy\n",
    "    \n",
    "    wx = np.real(np.fft.ifft2(np.fft.ifftshift(1j*np.multiply(kx,w_hat))))\n",
    "    wy = np.real(np.fft.ifft2(np.fft.ifftshift(1j*np.multiply(ky,w_hat))))\n",
    "    gx = np.real(np.fft.ifft2(np.fft.ifftshift(1j*np.multiply(kx,g_hat))))\n",
    "    gy = np.real(np.fft.ifft2(np.fft.ifftshift(1j*np.multiply(ky,g_hat))))\n",
    "    \n",
    "    w = dt*(np.multiply(g,w) - np.multiply(u,wx)-np.multiply(v,wy)) + w\n",
    "    g = dt*(2*avg_g2 - np.power(g,2) - np.multiply(u,gx)-np.multiply(v,gy)) + g\n",
    "    \n",
    "    w_hat = np.multiply(np.fft.fftshift(np.fft.fft2(w)),dealias)\n",
    "    g_hat = np.multiply(np.fft.fftshift(np.fft.fft2(g)),dealias)\n",
    "    \n",
    "    g_norm[iteration_time] = np.max(np.sum(np.abs(g), axis=1))\n",
    "    \n",
    "    if g_norm[iteration_time]>2**32-1:\n",
    "        seconds = iteration_time * dt\n",
    "        print(f\"Solution has blown up at T* = {seconds}\")\n",
    "        break"
   ]
  },
  {
   "cell_type": "code",
   "execution_count": 255,
   "metadata": {},
   "outputs": [],
   "source": [
    "import numpy as np\n",
    "import matplotlib.pyplot as plt\n",
    "\n",
    "def update_vorticity(g, w, lam, u, v, dt, dx, dy, kx, ky):\n",
    "    # Add the +g and +w for forward euler, then call this func instead of \n",
    "    # vorticity_rk4 for faster computation\n",
    "    gnew = dt*((2+lam)*g2_avg(g, dx, dy)- (1+lam)*g**2 - convect(g, u, v, kx, ky)) #+g\n",
    "    wnew = dt*(g*w - convect(w, u, v, kx, ky)) #+w\n",
    "    return gnew, wnew\n",
    "\n",
    "def vorticity_rk4(g, w, lam, u, v, dt, dx, dy, kx, ky):\n",
    "    kg1, kw1 = update_vorticity(g,w, lam, u,v,dt,dx,dy,kx,ky)\n",
    "    kg2, kw2 = update_vorticity(g+kg1/2,w+kw1/2, lam, u,v,dt,dx,dy,kx,ky)\n",
    "    kg3, kw3 = update_vorticity(g+kg2/2,w+kw2/2, lam, u,v,dt,dx,dy,kx,ky)\n",
    "    kg4, kw4 = update_vorticity(g+kg3,w+kw3, lam, u,v,dt,dx,dy,kx,ky)\n",
    "\n",
    "    g_new = g + 1/6*(kg1+2.*kg2+2.*kg3+kg4)    \n",
    "    w_new = w + 1/6*(kw1+2*kw2+2*kw3+kw4)\n",
    "\n",
    "    return g_new, w_new\n",
    "\n",
    "def update_velocities(g_hat, w_hat, kx, ky, k2):\n",
    "\n",
    "    uhat = 1j*(kx*g_hat+ky*w_hat)/(k2)\n",
    "    vhat = 1j*(ky*g_hat-kx*w_hat)/(k2)\n",
    "    # Assume no zero mode\n",
    "    Ny, Nx = np.shape(k2)\n",
    "    uhat[int(Ny/2),int(Nx/2)]=0\n",
    "    vhat[int(Ny/2),int(Nx/2)]=0\n",
    "\n",
    "    u = np.real(np.fft.ifft2(np.fft.ifftshift(uhat)))\n",
    "    v = np.real(np.fft.ifft2(np.fft.ifftshift(vhat)))\n",
    "\n",
    "    return u, v\n",
    "\n",
    "def g2_avg(g, dx, dy):\n",
    "    avg = 1.0/(2*np.pi)**2 * np.sum(g**2)*dx*dy\n",
    "    return avg\n",
    "\n",
    "def convect(C, u, v, kx, ky):\n",
    "    C_hat = np.fft.fftshift(np.fft.fft2(C))\n",
    "    C_x = np.real(np.fft.ifft2(np.fft.ifftshift(1j*kx*C_hat)))\n",
    "    C_y = np.real(np.fft.ifft2(np.fft.ifftshift(1j*ky*C_hat)))\n",
    "    convec_term = (u*C_x + v*C_y)\n",
    "\n",
    "    return convec_term\n",
    "\n",
    "def initial_conditions(xx, yy):\n",
    "    X, Y = np.meshgrid(xx, yy)\n",
    "    w0 = -np.sin(X) - np.cos(X)*np.cos(Y)\n",
    "    g0 = np.sin(X)*np.sin(Y) - np.cos(Y)\n",
    "    #w0 = np.sin(X)*np.sin(Y)\n",
    "    #g0 = np.sin(X)*np.sin(Y)\n",
    "\n",
    "    return w0, g0\n",
    "\n",
    "def blowup_test(g):\n",
    "    # infinity norm\n",
    "    norm_g = np.max(np.sum(np.abs(g), axis=1))\n",
    "    if norm_g >= 2**32 -1:\n",
    "        blowup = True\n",
    "    else:\n",
    "        blowup = False\n",
    "    return blowup\n",
    "\n",
    "def res(f, g):\n",
    "    Q = np.abs(f-g)/(np.abs(f)+np.abs(g))\n",
    "    return Q\n",
    "\n",
    "\n",
    "def euler_solve(N=256, dt=0.001, tfinal=2, lam=-3.0/2):\n",
    "\n",
    "    # Grid specifications\n",
    "    Nx, Ny = N, N\n",
    "    #dt, tfinal = 0.001, 2\n",
    "    #lam = -3.0/2\n",
    "    n_timesteps = int(np.floor(tfinal/dt))\n",
    "    print(\"~~ Euler Vorticity Solver ~~ \\n\")\n",
    "    print(f\"##### \\nParameters: \\nGrid points = {Nx}x{Ny}\")\n",
    "    print(f\"final time = {tfinal}s\")\n",
    "    # Grid spacing\n",
    "    dx = 2.*np.pi/Nx\n",
    "    dy = 2.*np.pi/Ny\n",
    "\n",
    "    # Discretized grid\n",
    "    xx = np.arange(0, Nx)*dx\n",
    "    yy = np.arange(0, Ny)*dy\n",
    "    print(\"Setting intial conditions... \\n\")\n",
    "    w, g  = initial_conditions(xx, yy)\n",
    "    w_hat = np.fft.fftshift(np.fft.fft2(w))\n",
    "    g_hat = np.fft.fftshift(np.fft.fft2(g))\n",
    "\n",
    "    # Matrices of wavesnumbers\n",
    "    kx = np.ones((1, Ny)).T * (np.arange(-Nx/2, Nx/2))\n",
    "    ky = np.reshape(np.arange(-Ny/2, Ny/2), (1, Ny)).T * np.ones((1, Nx))\n",
    "\n",
    "    k2 = kx**2+ky**2\n",
    "    k2[int(Nx/2),int(Nx/2)]=1\n",
    "\n",
    "    dealias = (np.abs(kx) < (2.0/3.0)*(Nx/2.0)) * (np.abs(ky)<(2.0/3.0)*(Ny/2.0))\n",
    "\n",
    "    res = np.zeros(n_timesteps)\n",
    "    print(\"Entering time loop... \\n\")\n",
    "    # Update the vorticity and stretching terms in each timestep\n",
    "    for iteration_time in range(0, n_timesteps):\n",
    "        if np.mod(iteration_time, 100)==0:\n",
    "            seconds = np.round(iteration_time*dt,4)\n",
    "            print(f\"Time: {seconds}s\")\n",
    "            #plt.pcolormesh(yy, xx, w.T, cmap=\"hot\")\n",
    "            #plt.colorbar()\n",
    "            #plt.clim(vmin=-2, vmax=2)\n",
    "            #plt.title(\"2D Euler - Vorticity\")\n",
    "            #plt.pause(1e-8)\n",
    "            #plt.clf()\n",
    "            # Implement numerical consistancy checks...\n",
    "\n",
    "        g_old = np.copy(g)\n",
    "        u, v = update_velocities(g_hat, w_hat, kx, ky, k2)\n",
    "        g, w = vorticity_rk4(g, w, lam, u, v, dt, dx, dy, kx, ky)\n",
    "        blowup = blowup_test(g)\n",
    "        if blowup:\n",
    "            seconds = iteration_time*dt\n",
    "            print(f\"Solution has blownup at T* = {seconds} \\n\")\n",
    "            print(\"Exiting loop.\")\n",
    "            #plt.pcolormesh(yy, xx, w.T, cmap='hot')\n",
    "            #plt.title(\"2D Euler - Vorticity\")\n",
    "            #plt.colorbar()\n",
    "            #plt.show()\n",
    "            break\n",
    "        # dealias\n",
    "        w_hat = np.fft.fftshift(np.fft.fft2(w))*dealias\n",
    "        g_hat = np.fft.fftshift(np.fft.fft2(g))*dealias\n",
    " \n",
    "\n",
    "    #print(\"Simulation finished. \\n Showing final plot... \\n\")\n",
    "    #plt.pcolormesh(yy, xx, w, cmap=\"hot\")\n",
    "    #plt.title(\"2D Euler - Vorticity\")\n",
    "    #plt.colorbar()\n",
    "    #plt.clim(vmin=-2, vmax=2)\n",
    "    #plt.show()\n",
    "\n",
    "    return g\n",
    "\n"
   ]
  },
  {
   "cell_type": "code",
   "execution_count": 271,
   "metadata": {
    "scrolled": false
   },
   "outputs": [],
   "source": [
    "\n",
    "dt = 0.001\n",
    "tfinal = 1.0\n",
    "lam = 0\n",
    "#g_8  = euler_solve(N=8, dt=dt, tfinal=tfinal, lam=lam)\n",
    "#g_16 = euler_solve(N=16, dt = dt, tfinal=tfinal, lam=lam)\n",
    "#g_32 =  euler_solve(N=32, dt=dt, tfinal=tfinal, lam=lam)\n",
    "#g_64 =  euler_solve(N=64, dt=dt, tfinal=tfinal, lam=lam)\n",
    "#g_128 = euler_solve(N=128, dt=dt, tfinal=tfinal, lam=lam)\n",
    "#g_256 = euler_solve(N=256, dt=dt, tfinal=tfinal, lam=lam)\n",
    "#g_512 = euler_solve(N=512, dt=dt, tfinal=tfinal, lam=lam)\n",
    "#g_1024 = euler_solve(N=1024, dt=dt, tfinal=tfinal, lam=lam)\n",
    "\n",
    "g16_g8  = np.max(np.abs( g_16[::2, ::2] - g_8))*(2*np.pi/8)**2\n",
    "g32_g16 = np.max(np.abs( g_32[::2, ::2] - g_16))*(2*np.pi/16)**2\n",
    "g64_g32 = np.max(np.abs( g_64[::2, ::2] - g_32 ))*(2*np.pi/32)**2\n",
    "g128_g64 = np.max(np.abs( g_128[::2, ::2] - g_64 ))*(2*np.pi/64)**2\n",
    "g256_g128 = np.max(np.abs( g_256[::2, ::2] - g_128 ))*(2*np.pi/128)**2\n",
    "g512_g256 = np.max(np.abs( g_512[::2, ::2] - g_256 ))*(2*np.pi/256)**2\n",
    "g1024_g512 = np.max(np.abs( g_1024[::2, ::2] - g_512))*(2*np.pi/512)**2"
   ]
  },
  {
   "cell_type": "code",
   "execution_count": 278,
   "metadata": {},
   "outputs": [
    {
     "name": "stderr",
     "output_type": "stream",
     "text": [
      "/home/ryan/anaconda3/lib/python3.7/site-packages/ipykernel_launcher.py:7: RuntimeWarning: invalid value encountered in log\n",
      "  import sys\n"
     ]
    },
    {
     "data": {
      "image/png": "[encoded data removed]",
      "text/plain": [
       "<Figure size 432x288 with 1 Axes>"
      ]
     },
     "metadata": {
      "needs_background": "light"
     },
     "output_type": "display_data"
    }
   ],
   "source": [
    "\n",
    "plt.close()\n",
    "deltaX = np.array([8, 16, 32, 64, 128])#, 256, 512])\n",
    "res = np.array([g16_g8, g32_g16, g64_g32, g128_g64, g256_g128])#, g512_g256, g1024_g512])\n",
    "\n",
    "# fit the curve\n",
    "def f(x, a, b, c, d):\n",
    "    return a*np.log(b*x)+c\n",
    "\n",
    "popt, pcov = curve_fit(f, deltaX, res)\n",
    "\n",
    "\n",
    "plt.loglog(deltaX, res, 'ro')\n",
    "plt.title('Spatial Convergence')\n",
    "plt.xlabel('Nx-Nx/2')\n",
    "plt.ylabel('Residual')\n",
    "\n",
    "locs, lables = plt.yticks()\n",
    "\n",
    "plt.show()"
   ]
  },
  {
   "cell_type": "code",
   "execution_count": 279,
   "metadata": {},
   "outputs": [],
   "source": [
    "x = np.log(deltaX)\n",
    "y = np.log(res)"
   ]
  },
  {
   "cell_type": "code",
   "execution_count": 280,
   "metadata": {},
   "outputs": [],
   "source": [
    "def f(x, a, b):\n",
    "    return a*x + b"
   ]
  },
  {
   "cell_type": "code",
   "execution_count": 281,
   "metadata": {},
   "outputs": [],
   "source": [
    "popt, pcov = curve_fit(f, x, y)"
   ]
  },
  {
   "cell_type": "code",
   "execution_count": 285,
   "metadata": {},
   "outputs": [
    {
     "data": {
      "image/png": "[encoded data removed]",
      "text/plain": [
       "<Figure size 432x288 with 1 Axes>"
      ]
     },
     "metadata": {
      "needs_background": "light"
     },
     "output_type": "display_data"
    }
   ],
   "source": [
    "plt.plot(x, y, 'ro')\n",
    "plt.plot(x, f(x, *popt), 'k--')\n",
    "locs2, l2 = plt.yticks()\n",
    "plt.xticks(x, [8, 16, 32, 64, 128])#, 256, 512])\n",
    "lo = np.copy(locs2)\n",
    "for i in range(len(lo)):\n",
    "    lo[i] = np.format_float_scientific(np.exp(locs2[i]), precision=0)\n",
    "plt.yticks(locs2, lo)\n",
    "plt.xlabel('Nx-Nx/2')\n",
    "plt.ylabel('Residual')\n",
    "plt.title('Spatial Convergence')\n",
    "#plt.savefig('spatial_convergence')\n",
    "plt.show()"
   ]
  },
  {
   "cell_type": "code",
   "execution_count": 283,
   "metadata": {},
   "outputs": [
    {
     "data": {
      "text/plain": [
       "array([-7.18954107, 14.95850899])"
      ]
     },
     "execution_count": 283,
     "metadata": {},
     "output_type": "execute_result"
    }
   ],
   "source": [
    "popt"
   ]
  },
  {
   "cell_type": "code",
   "execution_count": null,
   "metadata": {},
   "outputs": [],
   "source": []
  }
 ],
 "metadata": {
  "kernelspec": {
   "display_name": "Python 3",
   "language": "python",
   "name": "python3"
  },
  "language_info": {
   "codemirror_mode": {
    "name": "ipython",
    "version": 3
   },
   "file_extension": ".py",
   "mimetype": "text/x-python",
   "name": "python",
   "nbconvert_exporter": "python",
   "pygments_lexer": "ipython3",
   "version": "3.7.4"
  }
 },
 "nbformat": 4,
 "nbformat_minor": 2
}
